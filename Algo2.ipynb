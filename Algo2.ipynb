{
 "cells": [
  {
   "cell_type": "code",
   "execution_count": 1,
   "id": "1885cef2-c174-4ba1-998a-8c2e4ea34113",
   "metadata": {},
   "outputs": [
    {
     "name": "stdout",
     "output_type": "stream",
     "text": [
      "0 -- 1 == 2\n",
      "1 -- 2 == 3\n",
      "1 -- 4 == 5\n",
      "0 -- 3 == 6\n"
     ]
    }
   ],
   "source": [
    "class Graph:\n",
    "    def __init__(self, vertices):\n",
    "        self.V = vertices\n",
    "        self.graph = []\n",
    "\n",
    "    def add_edge(self, u, v, w):\n",
    "        self.graph.append([u, v, w])\n",
    "\n",
    "    def find_parent(self, parent, i):\n",
    "        if parent[i] == i:\n",
    "            return i\n",
    "        return self.find_parent(parent, parent[i])\n",
    "\n",
    "    def union(self, parent, rank, x, y):\n",
    "        xroot = self.find_parent(parent, x)\n",
    "        yroot = self.find_parent(parent, y)\n",
    "\n",
    "        if rank[xroot] < rank[yroot]:\n",
    "            parent[xroot] = yroot\n",
    "        elif rank[xroot] > rank[yroot]:\n",
    "            parent[yroot] = xroot\n",
    "        else:\n",
    "            parent[yroot] = xroot\n",
    "            rank[xroot] += 1\n",
    "\n",
    "    def KruskalMST(self):\n",
    "        result = []\n",
    "        i = 0\n",
    "        e = 0\n",
    "\n",
    "        self.graph = sorted(self.graph, key=lambda item: item[2])\n",
    "\n",
    "        parent = []\n",
    "        rank = []\n",
    "\n",
    "        for node in range(self.V):\n",
    "            parent.append(node)\n",
    "            rank.append(0)\n",
    "\n",
    "        while e < self.V - 1:\n",
    "            u, v, w = self.graph[i]\n",
    "            i += 1\n",
    "            x = self.find_parent(parent, u)\n",
    "            y = self.find_parent(parent, v)\n",
    "\n",
    "            if x != y:\n",
    "                e += 1\n",
    "                result.append([u, v, w])\n",
    "                self.union(parent, rank, x, y)\n",
    "\n",
    "        for u, v, weight in result:\n",
    "            print(\"%d -- %d == %d\" % (u, v, weight))\n",
    "\n",
    "# Create a graph with 5 vertices\n",
    "g = Graph(5)\n",
    "g.add_edge(0, 1, 2)\n",
    "g.add_edge(0, 3, 6)\n",
    "g.add_edge(1, 2, 3)\n",
    "g.add_edge(1, 3, 8)\n",
    "g.add_edge(1, 4, 5)\n",
    "g.add_edge(2, 4, 7)\n",
    "\n",
    "g.KruskalMST()"
   ]
  },
  {
   "cell_type": "code",
   "execution_count": null,
   "id": "3d033a55-78c6-4463-b778-2415dc1624fd",
   "metadata": {},
   "outputs": [],
   "source": []
  },
  {
   "cell_type": "code",
   "execution_count": null,
   "id": "d8e1697d-bf16-43e3-87c1-bc85bfe1512f",
   "metadata": {},
   "outputs": [],
   "source": []
  }
 ],
 "metadata": {
  "kernelspec": {
   "display_name": "Python 3 (ipykernel)",
   "language": "python",
   "name": "python3"
  },
  "language_info": {
   "codemirror_mode": {
    "name": "ipython",
    "version": 3
   },
   "file_extension": ".py",
   "mimetype": "text/x-python",
   "name": "python",
   "nbconvert_exporter": "python",
   "pygments_lexer": "ipython3",
   "version": "3.12.4"
  }
 },
 "nbformat": 4,
 "nbformat_minor": 5
}
